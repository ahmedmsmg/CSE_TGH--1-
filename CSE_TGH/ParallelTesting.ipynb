{
 "cells": [
  {
   "cell_type": "code",
   "execution_count": 1,
   "id": "b5e79beb-6e92-4549-82e5-f193d5c0c501",
   "metadata": {},
   "outputs": [],
   "source": [
    "import pandas as pd"
   ]
  },
  {
   "cell_type": "code",
   "execution_count": 2,
   "id": "15820151-2f9b-4720-942e-7a5afb857da5",
   "metadata": {},
   "outputs": [],
   "source": [
    "def calculate_cost_parallel(patient_id, patient_orders_path, probabilities_path, base_cost):\n",
    "    # Read Excel files\n",
    "    df_patient_orders = pd.read_csv(patient_orders_path)\n",
    "    df_probabilities = pd.read_csv(probabilities_path)\n",
    "    \n",
    "    # Filter orders for the given patient\n",
    "    patient_orders = df_patient_orders[df_patient_orders[\"Patient ID\"] == patient_id][\"Order Description\"]\n",
    "    \n",
    "    max_tt = 0  # Maximum Test Completion Time\n",
    "    total_tc = 0  # Total Test Cost\n",
    "    \n",
    "    for order in patient_orders:\n",
    "        # Find test details in the probabilities DataFrame\n",
    "        test_details = df_probabilities[df_probabilities[\"Order Description\"] == order].iloc[0]\n",
    "        TTn = test_details[\"Average Time to Complete\"]\n",
    "        TCn = test_details[\"Price\"]\n",
    "        \n",
    "        # Check if this test has the maximum completion time so far\n",
    "        max_tt = max(max_tt, TTn)\n",
    "        \n",
    "        # Sum up the test cost\n",
    "        total_tc += TCn\n",
    "    \n",
    "    # Calculate cost_parallel\n",
    "    cost_parallel = base_cost * (max_tt + total_tc)\n",
    "    return cost_parallel\n",
    "    "
   ]
  },
  {
   "cell_type": "code",
   "execution_count": 3,
   "id": "177e0b64-2fdf-4085-8832-76e24ef01ded",
   "metadata": {},
   "outputs": [],
   "source": [
    "# File paths (adjust these paths to your actual files)\n",
    "patient_orders_path = 'PatientOrders.csv'\n",
    "probabilities_path = 'ProbabilityPriceAT.csv'"
   ]
  },
  {
   "cell_type": "code",
   "execution_count": 4,
   "id": "fc22f07a-e182-4ea0-b53c-7be68c432b20",
   "metadata": {},
   "outputs": [],
   "source": [
    "# Assuming Base Cost (BC) is a constant for all tests, for example:\n",
    "BC = 2  # Base Cost for calculation"
   ]
  },
  {
   "cell_type": "code",
   "execution_count": 6,
   "id": "f7731b6a-6770-48c3-8969-e2301f7fd809",
   "metadata": {},
   "outputs": [
    {
     "name": "stdout",
     "output_type": "stream",
     "text": [
      "Cost_parallel for Patient ID 21944: 2714.909090909091\n"
     ]
    }
   ],
   "source": [
    "# Calculate cost for a specific Patient ID (e.g., 3)\n",
    "patient_id = 21944\n",
    "cost_parallel = calculate_cost_parallel(patient_id, patient_orders_path, probabilities_path, BC)\n",
    "print(f'Cost_parallel for Patient ID {patient_id}:', cost_parallel)"
   ]
  },
  {
   "cell_type": "code",
   "execution_count": null,
   "id": "4fba0a45-6e88-4598-a076-02a7d4991d0a",
   "metadata": {},
   "outputs": [],
   "source": []
  }
 ],
 "metadata": {
  "kernelspec": {
   "display_name": "Python 3 (ipykernel)",
   "language": "python",
   "name": "python3"
  },
  "language_info": {
   "codemirror_mode": {
    "name": "ipython",
    "version": 3
   },
   "file_extension": ".py",
   "mimetype": "text/x-python",
   "name": "python",
   "nbconvert_exporter": "python",
   "pygments_lexer": "ipython3",
   "version": "3.12.2"
  }
 },
 "nbformat": 4,
 "nbformat_minor": 5
}
