{
 "cells": [
  {
   "cell_type": "code",
   "execution_count": 34,
   "id": "6ffec38b-854e-4243-b4a2-354c3de64205",
   "metadata": {},
   "outputs": [],
   "source": [
    "import pandas as pd\n",
    "import numpy as np"
   ]
  },
  {
   "cell_type": "code",
   "execution_count": 35,
   "id": "a146a837-ff6d-4b0d-a49b-b13d3cb78f85",
   "metadata": {},
   "outputs": [],
   "source": [
    "# Reads in file\n",
    "PatientData = pd.read_csv(\"TGHdata.csv\")"
   ]
  },
  {
   "cell_type": "code",
   "execution_count": 36,
   "id": "97763888-03a7-4fd8-a5c5-cab24c9fdec6",
   "metadata": {},
   "outputs": [],
   "source": [
    "# Deletes any row where the order was canceled\n",
    "PatientData = PatientData.drop(PatientData[PatientData['Canceled Flag'] == '1'].index)"
   ]
  },
  {
   "cell_type": "code",
   "execution_count": 37,
   "id": "db94c4bb-e295-4ba1-9587-d58bd88e91ec",
   "metadata": {},
   "outputs": [],
   "source": [
    "# Deletes any row where the gender is unknown\n",
    "PatientData = PatientData.drop(PatientData[PatientData['Gender'] == 'Unknown'].index)"
   ]
  },
  {
   "cell_type": "code",
   "execution_count": 38,
   "id": "85d993e8-b90b-4528-a7e6-a87290425fb7",
   "metadata": {},
   "outputs": [],
   "source": [
    "# Replaces all '-' with \"NaN\" so we can easily drop rows with pandas\n",
    "PatientData.replace('-', np.nan, inplace=True)"
   ]
  },
  {
   "cell_type": "code",
   "execution_count": 39,
   "id": "40fc5824-e36a-4780-9e17-931b18520a81",
   "metadata": {},
   "outputs": [
    {
     "name": "stdout",
     "output_type": "stream",
     "text": [
      "Patient ID                       0\n",
      "Arrival Day                      0\n",
      "Arrival Hour                     0\n",
      "CHIEF_COMPLAINT               2368\n",
      "AgeGroup                         0\n",
      "Gender                        2322\n",
      "DISPOSITION_NMID                 0\n",
      "Order Type                     837\n",
      "Order Description              837\n",
      "Order Sequence                 837\n",
      "Canceled Flag                  837\n",
      "Arrival to Order               837\n",
      "Arrival to Order Complete     7311\n",
      "ArriveTo LastDispo Minutes    1663\n",
      "ArriveTo Departure Minutes       0\n",
      "dtype: int64\n"
     ]
    }
   ],
   "source": [
    "# Counting NaN values in all columns\n",
    "nan_count = PatientData.isna().sum()\n",
    "print(nan_count)"
   ]
  },
  {
   "cell_type": "code",
   "execution_count": 40,
   "id": "72641dc3-ff3f-40a7-aee9-75b8f03ddb80",
   "metadata": {},
   "outputs": [],
   "source": [
    "# Drops any rows that contain NaN\n",
    "PatientData.dropna(subset=[\"Arrival to Order Complete\"], inplace=True)\n",
    "PatientData.dropna(subset=[\"CHIEF_COMPLAINT\"], inplace=True)\n",
    "PatientData.dropna(subset=[\"Gender\"], inplace=True)\n",
    "PatientData.dropna(subset=[\"ArriveTo LastDispo Minutes\"], inplace=True)"
   ]
  },
  {
   "cell_type": "code",
   "execution_count": 41,
   "id": "0db09ae5-48eb-454d-8081-4a55d4ea5a0f",
   "metadata": {},
   "outputs": [
    {
     "name": "stdout",
     "output_type": "stream",
     "text": [
      "Patient ID                    0\n",
      "Arrival Day                   0\n",
      "Arrival Hour                  0\n",
      "CHIEF_COMPLAINT               0\n",
      "AgeGroup                      0\n",
      "Gender                        0\n",
      "DISPOSITION_NMID              0\n",
      "Order Type                    0\n",
      "Order Description             0\n",
      "Order Sequence                0\n",
      "Canceled Flag                 0\n",
      "Arrival to Order              0\n",
      "Arrival to Order Complete     0\n",
      "ArriveTo LastDispo Minutes    0\n",
      "ArriveTo Departure Minutes    0\n",
      "dtype: int64\n"
     ]
    }
   ],
   "source": [
    "# Counting NaN values in all columns\n",
    "nan_count = PatientData.isna().sum()\n",
    "print(nan_count)"
   ]
  },
  {
   "cell_type": "code",
   "execution_count": 42,
   "id": "d567abb6-f031-42f2-a93d-e32bc4c71e0a",
   "metadata": {},
   "outputs": [],
   "source": [
    "# Changes 'Arrival to Order' and 'Arrival to Order Complete' into INT values, 'ArriveTo LastDispo Minutes' into FLOAT\n",
    "PatientData['Arrival to Order'] = PatientData['Arrival to Order'].astype(str).astype(float)\n",
    "PatientData['Arrival to Order Complete'] = PatientData['Arrival to Order Complete'].astype(str).astype(float)\n",
    "PatientData['ArriveTo LastDispo Minutes'] = PatientData['ArriveTo LastDispo Minutes'].astype(str).astype(float)"
   ]
  },
  {
   "cell_type": "code",
   "execution_count": 43,
   "id": "1f44ef8d-c8c5-468b-b67f-96431030772a",
   "metadata": {},
   "outputs": [],
   "source": [
    "# Drops any rows that contain a negative \"ArriveTo LastDispo Minutes\", \"Arrival to Order\", or \"Arrival to Order Complete\"\n",
    "PatientData = PatientData.drop(PatientData.index[PatientData['ArriveTo LastDispo Minutes'] < 0])\n",
    "PatientData = PatientData.drop(PatientData.index[PatientData['Arrival to Order'] < 0])\n",
    "PatientData = PatientData.drop(PatientData.index[PatientData['Arrival to Order Complete'] < 0])"
   ]
  },
  {
   "cell_type": "code",
   "execution_count": 45,
   "id": "d859cd1b-7454-48d7-8bf2-09787db4e5d5",
   "metadata": {},
   "outputs": [],
   "source": [
    "# determining the name of the file\n",
    "file_name = 'CleanedTGHdata.csv'\n",
    "# saving the excel\n",
    "PatientData.to_csv(file_name)"
   ]
  },
  {
   "cell_type": "code",
   "execution_count": null,
   "id": "d2ed78f0-a488-4f44-99fa-fe84f8c3fed3",
   "metadata": {},
   "outputs": [],
   "source": []
  }
 ],
 "metadata": {
  "kernelspec": {
   "display_name": "Python 3 (ipykernel)",
   "language": "python",
   "name": "python3"
  },
  "language_info": {
   "codemirror_mode": {
    "name": "ipython",
    "version": 3
   },
   "file_extension": ".py",
   "mimetype": "text/x-python",
   "name": "python",
   "nbconvert_exporter": "python",
   "pygments_lexer": "ipython3",
   "version": "3.12.2"
  }
 },
 "nbformat": 4,
 "nbformat_minor": 5
}
