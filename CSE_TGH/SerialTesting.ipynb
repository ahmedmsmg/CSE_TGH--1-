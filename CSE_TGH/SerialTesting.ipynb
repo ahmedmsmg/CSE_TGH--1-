{
 "cells": [
  {
   "cell_type": "code",
   "execution_count": 2,
   "id": "eee98a88-c782-48c3-94ff-514b5fc157bf",
   "metadata": {},
   "outputs": [],
   "source": [
    "import pandas as pd\n"
   ]
  },
  {
   "cell_type": "code",
   "execution_count": 3,
   "id": "5d4ad9c4-d58e-4745-91c7-4a097b9e2b0b",
   "metadata": {},
   "outputs": [],
   "source": [
    "def calculate_cost_serial(patient_id, patient_orders_path, probabilities_path, base_cost):\n",
    "    # Read Excel files\n",
    "    df_patient_orders = pd.read_csv(patient_orders_path)\n",
    "    df_probabilities = pd.read_csv(probabilities_path)\n",
    "    \n",
    "    # Filter orders for the given patient\n",
    "    patient_orders = df_patient_orders[df_patient_orders[\"Patient ID\"] == patient_id][\"Order Description\"]\n",
    "    total_cost = 0\n",
    "    for order in patient_orders:\n",
    "        # Find test details in the probabilities DataFrame\n",
    "        test_details = df_probabilities[df_probabilities[\"Order Description\"] == order].iloc[0]\n",
    "        TPn = test_details[\"Probability\"]\n",
    "        TTn = test_details[\"Average Time to Complete\"]\n",
    "        TCn = test_details[\"Price\"]\n",
    "        \n",
    "        # Calculate part of the formula for this test\n",
    "        cost = TPn * (base_cost * TTn + TCn)\n",
    "        \n",
    "        # Add to total cost\n",
    "        total_cost += cost\n",
    "    \n",
    "    return total_cost"
   ]
  },
  {
   "cell_type": "code",
   "execution_count": 4,
   "id": "a3d50b0b-750f-4338-a443-e2fa1fe2cbba",
   "metadata": {},
   "outputs": [],
   "source": [
    "# File paths (adjust these paths to your actual files)\n",
    "patient_orders_path = 'PatientOrders.csv'\n",
    "probabilities_path = 'ProbabilityPriceAT.csv'\n"
   ]
  },
  {
   "cell_type": "code",
   "execution_count": 5,
   "id": "8e9c12e6-d2bb-4379-b659-738a54f1d345",
   "metadata": {},
   "outputs": [],
   "source": [
    "# Assuming Base Cost (BC) is a constant for all tests, for example:\n",
    "BC = 2  # Base Cost for calculation\n"
   ]
  },
  {
   "cell_type": "code",
   "execution_count": 7,
   "id": "738087f4-4ba8-46b9-8181-57ea67688cc6",
   "metadata": {},
   "outputs": [
    {
     "name": "stdout",
     "output_type": "stream",
     "text": [
      "Cost_serial for Patient ID 21944: 1092.0066303680276\n"
     ]
    }
   ],
   "source": [
    "# Calculate cost for a specific Patient ID (e.g., 3)\n",
    "patient_id = 21944\n",
    "cost_serial = calculate_cost_serial(patient_id, patient_orders_path, probabilities_path, BC)\n",
    "print(f'Cost_serial for Patient ID {patient_id}:', cost_serial)"
   ]
  },
  {
   "cell_type": "code",
   "execution_count": null,
   "id": "dffdf03f-3b7e-4090-9d8e-2861587ef0c0",
   "metadata": {},
   "outputs": [],
   "source": []
  }
 ],
 "metadata": {
  "kernelspec": {
   "display_name": "Python 3 (ipykernel)",
   "language": "python",
   "name": "python3"
  },
  "language_info": {
   "codemirror_mode": {
    "name": "ipython",
    "version": 3
   },
   "file_extension": ".py",
   "mimetype": "text/x-python",
   "name": "python",
   "nbconvert_exporter": "python",
   "pygments_lexer": "ipython3",
   "version": "3.12.2"
  }
 },
 "nbformat": 4,
 "nbformat_minor": 5
}
