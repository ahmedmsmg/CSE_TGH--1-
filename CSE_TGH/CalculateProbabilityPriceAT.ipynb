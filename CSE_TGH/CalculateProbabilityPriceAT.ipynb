{
 "cells": [
  {
   "cell_type": "code",
   "execution_count": 2,
   "id": "377ee553-743b-4933-929a-0237a7e8ca8f",
   "metadata": {},
   "outputs": [],
   "source": [
    "import pandas as pd"
   ]
  },
  {
   "cell_type": "code",
   "execution_count": 3,
   "id": "dd433ce1-e6b9-402e-a3b3-3710948236e7",
   "metadata": {},
   "outputs": [],
   "source": [
    "# Load your dataset\n",
    "PatientData = pd.read_csv('CleanedTGHdata.csv')\n",
    "\n"
   ]
  },
  {
   "cell_type": "code",
   "execution_count": 4,
   "id": "716c29ad-4a2e-43dc-98ee-4b07527d1d93",
   "metadata": {},
   "outputs": [],
   "source": [
    "# Step 1: Calculate 'Total Patients' for each group combination of \"CHIEF_COMPLAINT\", \"AgeGroup\", \"Gender\", and \"Order Type\".\n",
    "total_patients = PatientData.groupby([\"CHIEF_COMPLAINT\", \"AgeGroup\", \"Gender\", \"Order Type\"])[\"Patient ID\"].nunique().reset_index(name=\"Total Patients\")\n",
    "\n",
    "# Step 2: Calculate 'Patients with Specific Test' for each \"Order Description\" within each combination.\n",
    "patients_with_test = PatientData.groupby([\"CHIEF_COMPLAINT\", \"AgeGroup\", \"Gender\", \"Order Type\", \"Order Description\"])[\"Patient ID\"].nunique().reset_index(name=\"Patients with Specific Test\")\n",
    "\n",
    "# Step 3: Merge the data to calculate probabilities.\n",
    "ProbabilityDF = pd.merge(patients_with_test, total_patients, on=[\"CHIEF_COMPLAINT\", \"AgeGroup\", \"Gender\", \"Order Type\"])\n",
    "\n",
    "# Calculate the probability for each 'Order Description' within the groups.\n",
    "ProbabilityDF[\"Probability\"] = ProbabilityDF[\"Patients with Specific Test\"] / ProbabilityDF[\"Total Patients\"]\n"
   ]
  },
  {
   "cell_type": "code",
   "execution_count": 5,
   "id": "1e677932-d791-479c-b6ac-0105cb4591eb",
   "metadata": {},
   "outputs": [
    {
     "name": "stdout",
     "output_type": "stream",
     "text": [
      "    Order Type Order Description  Price\n",
      "0      Consult               All    100\n",
      "1          Lab               All     15\n",
      "2  Medications               All     25\n",
      "3      Imaging             CT...    150\n",
      "4      Imaging             MR...    500\n",
      "5      Imaging             US...    150\n",
      "6      Imaging             XR...     25\n"
     ]
    }
   ],
   "source": [
    "# Fixed price items\n",
    "fixed_price_items = [\n",
    "    {\"Order Type\": \"Consult\", \"Order Description\": \"All\", \"Price\": 100},\n",
    "    {\"Order Type\": \"Lab\", \"Order Description\": \"All\", \"Price\": 15},\n",
    "    {\"Order Type\": \"Medications\", \"Order Description\": \"All\", \"Price\": 25}\n",
    "]\n",
    "\n",
    "# Variable price items for Imaging\n",
    "variable_price_imaging = [\n",
    "    {\"Order Type\": \"Imaging\", \"Order Description\": \"CT...\", \"Price\": 150},\n",
    "    {\"Order Type\": \"Imaging\", \"Order Description\": \"MR...\", \"Price\": 500},\n",
    "    {\"Order Type\": \"Imaging\", \"Order Description\": \"US...\", \"Price\": 150},\n",
    "    {\"Order Type\": \"Imaging\", \"Order Description\": \"XR...\", \"Price\": 25}\n",
    "]\n",
    "\n",
    "# Combine all items into one list\n",
    "all_items = fixed_price_items + variable_price_imaging\n",
    "\n",
    "# Create the DataFrame\n",
    "price_df = pd.DataFrame(all_items)\n",
    "output_file_path = 'Prices.xlsx'  # Specify your desired output file path here\n",
    "price_df.to_excel(output_file_path, index=False, sheet_name='Prices')\n",
    "\n",
    "# Display the DataFrame\n",
    "print(price_df)"
   ]
  },
  {
   "cell_type": "code",
   "execution_count": 6,
   "id": "d6e805a4-0dbc-4d8d-8280-9d1aebf531be",
   "metadata": {},
   "outputs": [],
   "source": [
    "# Define the pricing function\n",
    "def calculate_price(row):\n",
    "    if row['Order Type'] in ['Labs', 'Medications', 'Consult']:\n",
    "        price_map = {'Labs': 15, 'Medications': 25, 'Consult': 100}\n",
    "        return price_map[row['Order Type']]\n",
    "    elif row['Order Type'] == 'Imaging':\n",
    "        if row['Order Description'].startswith('CT'):\n",
    "            return 150\n",
    "        elif row['Order Description'].startswith('MR'):\n",
    "            return 500\n",
    "        elif row['Order Description'].startswith('US'):\n",
    "            return 150\n",
    "        elif row['Order Description'].startswith('XR'):\n",
    "            return 25\n",
    "    return 0\n",
    "\n",
    "# Apply the pricing rules\n",
    "ProbabilityDF['Price'] = ProbabilityDF.apply(calculate_price, axis=1)"
   ]
  },
  {
   "cell_type": "code",
   "execution_count": 7,
   "id": "57970992-eea4-4460-ad30-25ddbd05cd7c",
   "metadata": {},
   "outputs": [],
   "source": [
    "# Step 1: Calculate Time Difference\n",
    "PatientData['Time to Complete Test'] = (PatientData['Arrival to Order Complete'] - PatientData['Arrival to Order'])\n",
    "\n",
    "# Step 2: Calculate Average Time per Group\n",
    "average_time_to_complete = PatientData.groupby([\"CHIEF_COMPLAINT\", \"AgeGroup\", \"Gender\", \"Order Type\", \"Order Description\"])['Time to Complete Test'].mean().reset_index(name=\"Average Time to Complete\")\n",
    "\n",
    "# Step 3: Merge with ProbabilityDF\n",
    "ProbabilityDF = pd.merge(ProbabilityDF, average_time_to_complete, on=[\"CHIEF_COMPLAINT\", \"AgeGroup\", \"Gender\", \"Order Type\", \"Order Description\"], how='left')"
   ]
  },
  {
   "cell_type": "code",
   "execution_count": 9,
   "id": "ca0cf51c-9275-4884-a69f-6993502d16f1",
   "metadata": {},
   "outputs": [],
   "source": [
    "ProbabilityDF.to_csv('ProbabilityPriceAT.csv')"
   ]
  },
  {
   "cell_type": "code",
   "execution_count": null,
   "id": "42f39f1a-6195-4e8f-aaa5-836e1369c3c9",
   "metadata": {},
   "outputs": [],
   "source": []
  }
 ],
 "metadata": {
  "kernelspec": {
   "display_name": "Python 3 (ipykernel)",
   "language": "python",
   "name": "python3"
  },
  "language_info": {
   "codemirror_mode": {
    "name": "ipython",
    "version": 3
   },
   "file_extension": ".py",
   "mimetype": "text/x-python",
   "name": "python",
   "nbconvert_exporter": "python",
   "pygments_lexer": "ipython3",
   "version": "3.12.2"
  }
 },
 "nbformat": 4,
 "nbformat_minor": 5
}
